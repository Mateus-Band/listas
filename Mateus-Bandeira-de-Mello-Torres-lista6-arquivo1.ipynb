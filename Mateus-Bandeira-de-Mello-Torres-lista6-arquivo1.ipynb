{
 "cells": [
  {
   "cell_type": "code",
   "execution_count": null,
   "id": "58b0ddb8",
   "metadata": {},
   "outputs": [],
   "source": [
    "#Questão 1\n",
    "import numpy as np\n",
    "import time\n",
    "\n",
    "class MyArray:\n",
    "    def __init__(self, lista=None):\n",
    "        if lista is None:\n",
    "            self.n = 0\n",
    "            self.capacidade = 1\n",
    "            self.array = np.empty(self.capacidade, dtype=object)\n",
    "        else:\n",
    "            self.n = len(lista)\n",
    "            self.capacidade = len(lista)\n",
    "            self.array = np.array(lista, dtype=object)\n",
    "\n",
    "    def __str__(self):\n",
    "        return \"[\" + \", \".join(repr(self.array[i]) for i in range(self.n)) + \"]\"\n",
    "\n",
    "    def __len__(self):\n",
    "        return self.n\n",
    "    \n",
    "    def _resize(self, new_cap):\n",
    "        new_array = np.empty(new_cap, dtype=object)\n",
    "        for i in range(self.n):\n",
    "            new_array[i] = self.array[i]\n",
    "        self.array = new_array\n",
    "        self.capacidade = new_cap\n",
    "\n",
    "    def __getitem__(self, index):\n",
    "        index = index % self.n \n",
    "        return self.array[index]\n",
    "\n",
    "    def append(self, item):\n",
    "        if self.n == self.capacidade:\n",
    "            self._resize(2 * self.capacidade)\n",
    "        self.array[self.n] = item\n",
    "        self.n += 1\n",
    "\n",
    "    def pop(self):\n",
    "        item = self.array[self.n - 1]\n",
    "        self.array[self.n - 1] = None\n",
    "        self.n -= 1\n",
    "        return item\n",
    "    \n",
    "ini = time.perf_counter()\n",
    "my_array = MyArray([1, 2, 3])\n",
    "print(my_array)\n",
    "my_array.append(4)\n",
    "print(my_array)\n",
    "print(my_array.pop())\n",
    "print(my_array)\n",
    "fim = time.perf_counter()\n",
    "print(f\"Tempo de execução: {fim - ini} segundos\")\n",
    "\n",
    "ini = time.perf_counter()\n",
    "lista_padrao = [1, 2, 3]\n",
    "print(lista_padrao)\n",
    "lista_padrao.append(4)\n",
    "print(lista_padrao)\n",
    "print(lista_padrao.pop())\n",
    "print(lista_padrao)\n",
    "fim = time.perf_counter()\n",
    "print(f\"Tempo de execução: {fim - ini} segundos\")\n",
    "\n",
    "# --- Teste de Performance ---\n",
    "\n",
    "num_elementos = 100000 # Vamos adicionar 100 mil elementos\n",
    "\n",
    "print(f\"--- Testando MyArray com {num_elementos} appends ---\")\n",
    "my_array = MyArray() # Começa vazio\n",
    "ini_myarray = time.perf_counter()\n",
    "\n",
    "# Loop para adicionar os elementos\n",
    "for i in range(num_elementos):\n",
    "    my_array.append(i)\n",
    "\n",
    "fim_myarray = time.perf_counter()\n",
    "duracao_myarray = fim_myarray - ini_myarray\n",
    "print(f\"Estado final: {my_array}\") # Mostra tamanho e capacidade finais\n",
    "print(f\"Tempo de execução (MyArray): {duracao_myarray:.6f} segundos\")\n",
    "\n",
    "print(\"-\" * 40)\n",
    "\n",
    "print(f\"--- Testando list padrão com {num_elementos} appends ---\")\n",
    "lista_padrao = [] # Começa vazia\n",
    "ini_lista = time.perf_counter()\n",
    "\n",
    "# Loop para adicionar os elementos\n",
    "for i in range(num_elementos):\n",
    "    lista_padrao.append(i)\n",
    "\n",
    "fim_lista = time.perf_counter()\n",
    "duracao_lista = fim_lista - ini_lista\n",
    "# print(f\"Estado final: {lista_padrao[:10]}... (Size={len(lista_padrao)})\") # Lista padrão não tem capacidade visível\n",
    "print(f\"Tempo de execução (list): {duracao_lista:.6f} segundos\")\n",
    "\n",
    "print(\"-\" * 40)\n",
    "\n",
    "# Comparação\n",
    "print(\"\\n--- Comparação ---\")\n",
    "if duracao_myarray < duracao_lista:\n",
    "    print(f\"MyArray foi {duracao_lista / duracao_myarray:.2f} vezes mais rápido.\")\n",
    "else:\n",
    "    print(f\"list padrão foi {duracao_myarray / duracao_lista:.2f} vezes mais rápido.\")"
   ]
  },
  {
   "cell_type": "markdown",
   "id": "5bab2da2",
   "metadata": {},
   "source": [
    "## Explicação:  \n",
    "- Lista python é compilada em C e foi otimizada durante décadas, por isso é naturalmente mais rápida do que algo em python interpretado."
   ]
  },
  {
   "cell_type": "code",
   "execution_count": null,
   "id": "1f337e36",
   "metadata": {},
   "outputs": [
    {
     "name": "stdout",
     "output_type": "stream",
     "text": [
      "scipy version = 1.16.2\n",
      "O ponto mais proximo está a 0.52 de distância, é o ponto (8.00,4.37)  no índice 68\n"
     ]
    },
    {
     "data": {
      "image/png": "[encoded data removed]",
      "text/plain": [
       "<Figure size 640x480 with 1 Axes>"
      ]
     },
     "metadata": {},
     "output_type": "display_data"
    },
    {
     "data": {
      "image/png": "[encoded data removed]",
      "text/plain": [
       "<Figure size 640x480 with 1 Axes>"
      ]
     },
     "metadata": {},
     "output_type": "display_data"
    }
   ],
   "source": [
    "#Questão 2 (função)\n",
    "\n",
    "import scipy as sp\n",
    "import numpy as np\n",
    "print(f'scipy version = {sp.__version__}')\n",
    "from matplotlib import pyplot as plt\n",
    "np.random.seed(1001)\n",
    "N = 200\n",
    "normaldist1 = sp.stats.norm(2, 4)\n",
    "normaldist2 = sp.stats.norm(4, 1)\n",
    "X = normaldist1.rvs(N)\n",
    "Y = normaldist2.rvs(N)\n",
    "data  = np.array([X, Y]).T\n",
    "fig, ax = plt.subplots()\n",
    "ax.plot(data[:,0], data[:,1], '.')\n",
    "ax.set_aspect('equal', 'box')\n",
    "\n",
    "def find_nb(data, point):\n",
    "    Dt = data - point\n",
    "    d = np.linalg.norm(Dt, axis=1)\n",
    "    idt = np.argmin(d)\n",
    "    return d[idt], idt\n",
    "\n",
    "point = np.array([8.5, 4.5])\n",
    "dd, idx = find_nb(data, point)\n",
    "print(f\"O ponto mais proximo está a {dd:.2f} de distância, é o ponto ({data[idx,0]:.2f},{data[idx,1]:.2f})  no índice {idx}\")\n",
    "\n",
    "#plotagem\n",
    "fig, ax = plt.subplots()\n",
    "ax.plot(data[:,0], data[:,1], '.')\n",
    "ax.plot(point[0], point[1], 'ro')\n",
    "ax.plot(data[idx,0], data[idx,1], 'go')\n",
    "ax.set_aspect('equal', 'box')\n",
    "plt.show()\n"
   ]
  },
  {
   "cell_type": "markdown",
   "id": "318e5708",
   "metadata": {},
   "source": [
    "## Explicação:\n",
    "- A função encontra o elemento mais proximo de um ponto dado dentro do conjunto de dados;\n",
    "- Complexidade O(n), sendo n o números de pontos no conjunto de dados. Função linear que percorre cada elemento de data."
   ]
  },
  {
   "cell_type": "markdown",
   "id": "fb0f0385",
   "metadata": {},
   "source": [
    "# Questão 3\n",
    "__Números de ponto flutuante definidos por:__\n",
    "- Base $\\beta \\geq 2$;\n",
    "- precisão $p \\geq 1$, ou seja, $p$ dígitos significativos na mantissa;\n",
    "- expoente inteiro $e$ no intervalo $[e_{\\min}, e_{\\max}]$.\n",
    "  \n",
    "Número de ponto flutuante (não nulo), representado por:  \n",
    "$$\\pm d_0 \\cdot d_1 d_2 ...d_{p-1} \\times \\beta^e,$$\n",
    "- 0 representação própria\n",
    "- $d_0 \\in \\{1 ,..., \\beta - 1\\}$\n",
    "- $d_i \\in \\{0, ..., \\beta - 1 \\} \\text{    para } i \\geq 1$\n",
    "- $e_{\\min} \\leq e \\leq e_{max}.$\n",
    "\n",
    "## Resposta:\n",
    "Para representar N itens distintos, o número mínimo de bits que precisamos é o teto do logaritmo de N na base 2.\n",
    "$$ \\text{Bits} = \\lceil\\log_2(N) \\rceil$$\n",
    "Agora buscamos o N: $N =$ (Números não nulos) + $1$ (para o 0)\n",
    "  \n",
    "Como um número não nulo é definido por \"$\\pm d_0 \\cdot d_1 d_2 ...d_{p-1} \\times \\beta^e$\", contamos quantas possibilidades temos para cada 'casa':\n",
    "- 1 para cada sinal = 2\n",
    "- de $d_0$ a $d_{p-1}$ na mantissa, são p dígitos na base $\\beta$. Para $d_0$ são ($\\beta -1$) e para os outros $p-1$ são $\\beta$. Logo, $(\\beta -1) \\times \\beta^{(p-1)}$ possibilidades\n",
    "- excolhas para expoente no intervalo $[ e_{\\max}, e_{\\min} ] = e_{\\max} - e_{\\min} + 1$\n",
    "  \n",
    "Juntando:\n",
    "$$N =[2 \\times (\\beta -1) \\times \\beta^{(p-1)} \\times (e_{\\max} - e_{\\min} + 1)] + 1$$\n",
    "$$ \\text{Bits } = \\lceil \\log_2([2 \\times (\\beta -1) \\times \\beta^{(p-1)} \\times (e_{\\max} - e_{\\min} + 1)] + 1)\\rceil$$"
   ]
  },
  {
   "cell_type": "code",
   "execution_count": 22,
   "id": "310fdfc9",
   "metadata": {},
   "outputs": [
    {
     "name": "stdout",
     "output_type": "stream",
     "text": [
      "Epsilon da máquina em torno de 1: 2.220446049250313e-16\n",
      "Vendo pelo sys: 2.220446049250313e-16\n"
     ]
    }
   ],
   "source": [
    "#Questão 4\n",
    "def acha_epsilon(n):\n",
    "    n = float(n)\n",
    "    E = n\n",
    "    while E + n != n:\n",
    "        E /= 2\n",
    "    return E * 2\n",
    "\n",
    "epsilon1 = acha_epsilon(1)\n",
    "\n",
    "print(f'Epsilon da máquina em torno de 1: {epsilon1}')\n",
    "\n",
    "import sys\n",
    "print(f'Vendo pelo sys: {sys.float_info.epsilon}')"
   ]
  },
  {
   "cell_type": "code",
   "execution_count": 24,
   "id": "df05c798",
   "metadata": {},
   "outputs": [
    {
     "name": "stdout",
     "output_type": "stream",
     "text": [
      "Epsilon da máquina em torno de 10^6: 1.1102230246251565e-10\n",
      "Epsilon para 10^6 é 5.0e+05 vezes maior que para 1\n",
      "Para 10^18, por exemplo: 111.02230246251565\n"
     ]
    }
   ],
   "source": [
    "#Questão 5\n",
    "#(rodar bloco anterior)\n",
    "\n",
    "epsilon2 = acha_epsilon(10**6)\n",
    "\n",
    "print(f'Epsilon da máquina em torno de 10^6: {epsilon2}')\n",
    "\n",
    "#item a)\n",
    "print(f'Epsilon para 10^6 é {(epsilon2/epsilon1):.1e} vezes maior que para 1')\n",
    "\n",
    "#item c)\n",
    "print(f'Para 10^18, por exemplo: {acha_epsilon(10**18)}')"
   ]
  },
  {
   "cell_type": "markdown",
   "id": "c9a14ab7",
   "metadata": {},
   "source": [
    "__b)__\n",
    "* O epsilon ($2.22 \\times 10^{-16}$) é o espaçamento para números com expoente $e=0$ (também representado por $2^{-52}$).\n",
    "* O número $10^6$ (1 milhão) está entre $2^{19}$ (que é 524.288) e $2^{20}$ (que é 1.048.576).\n",
    "* Como $10^6$ está nesse intervalo, o sistema de ponto flutuante o armazena usando o expoente **$e=19$**.\n",
    "* Portanto, o espaçamento para qualquer número nessa faixa é $2^{19} \\approx 500000 $ vezes maior do que o espaçamento na faixa de $e=0$."
   ]
  },
  {
   "cell_type": "markdown",
   "id": "42e6dcb3",
   "metadata": {},
   "source": [
    "__c)__\n",
    "* Para números muito grandes, o valor mínimo para ocorrer uma modificação do numero float é significativo. Por exemplo:\n",
    "    * para epsilon em $10^{18} = 128.0$, isso quer dizer que o valor mínimo para ocorrer a alteração é 128.\n",
    "    * Caso eu some $10^{18} + 100$ o resultado será $10^{18}$ ainda.\n",
    "  \n",
    "* Para números muito pequenos, o float pode sofrer de underflow, onde a máquina não consegue representar o número. Por exemplo:\n",
    "    * para epsilon em $10^{-350}$, seria abaixo do $e_{\\min} = -1022$\n",
    "    * calculando o epsilon mínimo: $2^{-52} \\times 2^{1022} = 2^{1074} \\approx 5 \\times 10^{-324}$ que é maior que $-350$. Por isso, $10^{-350}$ teria representação em $0.0$"
   ]
  }
 ],
 "metadata": {
  "kernelspec": {
   "display_name": "Python 3",
   "language": "python",
   "name": "python3"
  },
  "language_info": {
   "codemirror_mode": {
    "name": "ipython",
    "version": 3
   },
   "file_extension": ".py",
   "mimetype": "text/x-python",
   "name": "python",
   "nbconvert_exporter": "python",
   "pygments_lexer": "ipython3",
   "version": "3.12.12"
  }
 },
 "nbformat": 4,
 "nbformat_minor": 5
}
